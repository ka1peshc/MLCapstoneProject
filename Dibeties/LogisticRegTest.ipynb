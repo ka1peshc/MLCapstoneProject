{
 "cells": [
  {
   "cell_type": "code",
   "execution_count": 4,
   "id": "56dbeb7b-673c-4ee4-b33c-f67bcede87dc",
   "metadata": {},
   "outputs": [
    {
     "name": "stdout",
     "output_type": "stream",
     "text": [
      "Person has:  [0]\n"
     ]
    }
   ],
   "source": [
    "import joblib\n",
    "Pred_Model = joblib.load('LogRegModel.pkl')\n",
    "Pregnancies=2\n",
    "Glucose = 150\n",
    "BloodPressure = 72\n",
    "SkinThickness = 40\n",
    "Insulin = 120\n",
    "BMI = 25.5\n",
    "DiabetesPedigreeFunction = 0.35\n",
    "Age=45\n",
    "output = Pred_Model.predict([[Pregnancies, Glucose, BloodPressure, SkinThickness, Insulin,\n",
    "       BMI, DiabetesPedigreeFunction, Age]])\n",
    "print('Person has: ', output)"
   ]
  },
  {
   "cell_type": "code",
   "execution_count": null,
   "id": "d38e332a-6196-4115-8418-7330de9df4fb",
   "metadata": {},
   "outputs": [],
   "source": []
  }
 ],
 "metadata": {
  "kernelspec": {
   "display_name": "Python 3 (ipykernel)",
   "language": "python",
   "name": "python3"
  },
  "language_info": {
   "codemirror_mode": {
    "name": "ipython",
    "version": 3
   },
   "file_extension": ".py",
   "mimetype": "text/x-python",
   "name": "python",
   "nbconvert_exporter": "python",
   "pygments_lexer": "ipython3",
   "version": "3.9.13"
  }
 },
 "nbformat": 4,
 "nbformat_minor": 5
}
